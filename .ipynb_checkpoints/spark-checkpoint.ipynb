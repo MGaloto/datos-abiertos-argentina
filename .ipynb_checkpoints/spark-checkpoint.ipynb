{
 "cells": [
  {
   "cell_type": "code",
   "execution_count": 33,
   "id": "c8ef1e5a",
   "metadata": {},
   "outputs": [
    {
     "name": "stderr",
     "output_type": "stream",
     "text": [
      "C:\\Users\\maxig\\Desktop\\Carpetas\\Trabajos en Python\\Spark\\env-spark\\lib\\site-packages\\pandas\\io\\sql.py:761: UserWarning: pandas only support SQLAlchemy connectable(engine/connection) ordatabase string URI or sqlite3 DBAPI2 connectionother DBAPI2 objects are not tested, please consider using SQLAlchemy\n",
      "  warnings.warn(\n"
     ]
    }
   ],
   "source": [
    "import pymysql\n",
    "import pandas as pd\n",
    "\n",
    "connection = pymysql.connect(host = 'localhost', \n",
    "                             user = 'root', \n",
    "                             password = '1411', \n",
    "                             db = 'santander_db')\n",
    "\n",
    "\n",
    "cursor = connection.cursor()\n",
    "cursor.execute(\"USE santander_db;\")\n",
    "query = '''SELECT * FROM clientes_hb'''\n",
    "\n",
    "\n",
    "df = pd.read_sql(query, connection)"
   ]
  },
  {
   "cell_type": "code",
   "execution_count": 34,
   "id": "781cf4d1-6f70-4067-a31e-eccc9f5f5b4c",
   "metadata": {},
   "outputs": [
    {
     "data": {
      "text/html": [
       "<div>\n",
       "<style scoped>\n",
       "    .dataframe tbody tr th:only-of-type {\n",
       "        vertical-align: middle;\n",
       "    }\n",
       "\n",
       "    .dataframe tbody tr th {\n",
       "        vertical-align: top;\n",
       "    }\n",
       "\n",
       "    .dataframe thead th {\n",
       "        text-align: right;\n",
       "    }\n",
       "</style>\n",
       "<table border=\"1\" class=\"dataframe\">\n",
       "  <thead>\n",
       "    <tr style=\"text-align: right;\">\n",
       "      <th></th>\n",
       "      <th>USER_ID</th>\n",
       "      <th>SESSION_ID</th>\n",
       "      <th>SEGMENT_ID</th>\n",
       "      <th>SEGMENT_DESCRIPTION</th>\n",
       "      <th>USER_CITY</th>\n",
       "      <th>SERVER_TIME</th>\n",
       "      <th>DEVICE_BROWSER</th>\n",
       "      <th>DEVICE_OS</th>\n",
       "      <th>DEVICE_MOBILE</th>\n",
       "      <th>TIME_SPENT</th>\n",
       "      <th>EVENT_ID</th>\n",
       "      <th>EVENT_DESCRIPTION</th>\n",
       "      <th>CRASH_DETECTION</th>\n",
       "    </tr>\n",
       "  </thead>\n",
       "  <tbody>\n",
       "    <tr>\n",
       "      <th>0</th>\n",
       "      <td>1</td>\n",
       "      <td>1</td>\n",
       "      <td>1</td>\n",
       "      <td>Joven</td>\n",
       "      <td>Lanus</td>\n",
       "      <td>2021-01-01 16:20:01</td>\n",
       "      <td>web</td>\n",
       "      <td>linux</td>\n",
       "      <td>linux</td>\n",
       "      <td>4</td>\n",
       "      <td>3</td>\n",
       "      <td>Login</td>\n",
       "      <td>Sin Error</td>\n",
       "    </tr>\n",
       "    <tr>\n",
       "      <th>1</th>\n",
       "      <td>1</td>\n",
       "      <td>1</td>\n",
       "      <td>1</td>\n",
       "      <td>Joven</td>\n",
       "      <td>Lanus</td>\n",
       "      <td>2022-01-01 16:20:01</td>\n",
       "      <td>web</td>\n",
       "      <td>linux</td>\n",
       "      <td>linux</td>\n",
       "      <td>4</td>\n",
       "      <td>1</td>\n",
       "      <td>Consulta</td>\n",
       "      <td>Sin Error</td>\n",
       "    </tr>\n",
       "    <tr>\n",
       "      <th>2</th>\n",
       "      <td>1</td>\n",
       "      <td>1</td>\n",
       "      <td>1</td>\n",
       "      <td>Joven</td>\n",
       "      <td>Lanus</td>\n",
       "      <td>2022-02-01 16:20:01</td>\n",
       "      <td>web</td>\n",
       "      <td>linux</td>\n",
       "      <td>linux</td>\n",
       "      <td>5</td>\n",
       "      <td>1</td>\n",
       "      <td>Consulta</td>\n",
       "      <td>Sin Error</td>\n",
       "    </tr>\n",
       "    <tr>\n",
       "      <th>3</th>\n",
       "      <td>1</td>\n",
       "      <td>1</td>\n",
       "      <td>1</td>\n",
       "      <td>Joven</td>\n",
       "      <td>Lanus</td>\n",
       "      <td>2022-02-01 16:22:01</td>\n",
       "      <td>web</td>\n",
       "      <td>linux</td>\n",
       "      <td>linux</td>\n",
       "      <td>1</td>\n",
       "      <td>2</td>\n",
       "      <td>Pago</td>\n",
       "      <td>Sin Error</td>\n",
       "    </tr>\n",
       "    <tr>\n",
       "      <th>4</th>\n",
       "      <td>2</td>\n",
       "      <td>2</td>\n",
       "      <td>2</td>\n",
       "      <td>Adulto</td>\n",
       "      <td>Caba</td>\n",
       "      <td>2021-01-01 16:20:01</td>\n",
       "      <td>web</td>\n",
       "      <td>linux</td>\n",
       "      <td>linux</td>\n",
       "      <td>4</td>\n",
       "      <td>3</td>\n",
       "      <td>Login</td>\n",
       "      <td>Sin Error</td>\n",
       "    </tr>\n",
       "  </tbody>\n",
       "</table>\n",
       "</div>"
      ],
      "text/plain": [
       "   USER_ID  SESSION_ID  SEGMENT_ID SEGMENT_DESCRIPTION USER_CITY  \\\n",
       "0        1           1           1               Joven     Lanus   \n",
       "1        1           1           1               Joven     Lanus   \n",
       "2        1           1           1               Joven     Lanus   \n",
       "3        1           1           1               Joven     Lanus   \n",
       "4        2           2           2              Adulto      Caba   \n",
       "\n",
       "          SERVER_TIME DEVICE_BROWSER DEVICE_OS DEVICE_MOBILE  TIME_SPENT  \\\n",
       "0 2021-01-01 16:20:01            web     linux         linux           4   \n",
       "1 2022-01-01 16:20:01            web     linux         linux           4   \n",
       "2 2022-02-01 16:20:01            web     linux         linux           5   \n",
       "3 2022-02-01 16:22:01            web     linux         linux           1   \n",
       "4 2021-01-01 16:20:01            web     linux         linux           4   \n",
       "\n",
       "   EVENT_ID EVENT_DESCRIPTION CRASH_DETECTION  \n",
       "0         3             Login       Sin Error  \n",
       "1         1          Consulta       Sin Error  \n",
       "2         1          Consulta       Sin Error  \n",
       "3         2              Pago       Sin Error  \n",
       "4         3             Login       Sin Error  "
      ]
     },
     "execution_count": 34,
     "metadata": {},
     "output_type": "execute_result"
    }
   ],
   "source": [
    "df.head(5)"
   ]
  },
  {
   "cell_type": "code",
   "execution_count": 35,
   "id": "b3273589",
   "metadata": {},
   "outputs": [],
   "source": [
    "import findspark\n",
    "findspark.init()\n",
    "from pyspark import SparkContext\n",
    "from pyspark.sql import SparkSession\n",
    "from pyspark.sql import SQLContext"
   ]
  },
  {
   "cell_type": "code",
   "execution_count": 36,
   "id": "18bdb304",
   "metadata": {},
   "outputs": [
    {
     "name": "stderr",
     "output_type": "stream",
     "text": [
      "C:\\spark\\python\\pyspark\\sql\\context.py:77: FutureWarning: Deprecated in 3.0.0. Use SparkSession.builder.getOrCreate() instead.\n",
      "  warnings.warn(\n",
      "C:\\spark\\python\\pyspark\\sql\\dataframe.py:138: FutureWarning: Deprecated in 2.0, use createOrReplaceTempView instead.\n",
      "  warnings.warn(\n"
     ]
    }
   ],
   "source": [
    "sc = SparkSession.builder.master('local').appName('ejercicio').getOrCreate()\n",
    "\n",
    "sqlContext = SQLContext(sc)\n",
    "\n",
    "query = '''SELECT col.* FROM clientes_hb col\n",
    "        JOIN(SELECT USER_ID, MIN(SERVER_TIME) AS FIRST_LOGIN FROM clientes_hb GROUP BY USER_ID) \n",
    "        tmp ON tmp.USER_ID = col.USER_ID AND tmp.FIRST_LOGIN = col.SERVER_TIME\n",
    "        ORDER BY SERVER_TIME;'''\n",
    "\n",
    "df = sc.read.format(\"jdbc\") \\\n",
    "    .option(\"url\",\"jdbc:mysql://localhost/santander_db\") \\\n",
    "    .option(\"driver\",\"com.mysql.jdbc.Driver\") \\\n",
    "    .option(\"dbtable\",\"clientes_hb\") \\\n",
    "    .option(\"user\",\"<user>\") \\\n",
    "    .option(\"password\",\"<password>\") \\\n",
    "    .option(\"query\", query).load()\n",
    "\n",
    "df.show()\n"
   ]
  },
  {
   "cell_type": "code",
   "execution_count": 37,
   "id": "0ccd93d4-c599-4e3d-8ea9-943d64dad803",
   "metadata": {},
   "outputs": [
    {
     "name": "stdout",
     "output_type": "stream",
     "text": [
      "+-------+----------+----------+-------------------+---------+-------------------+--------------+---------+-------------+----------+--------+-----------------+---------------+\n",
      "|USER_ID|SESSION_ID|SEGMENT_ID|SEGMENT_DESCRIPTION|USER_CITY|        SERVER_TIME|DEVICE_BROWSER|DEVICE_OS|DEVICE_MOBILE|TIME_SPENT|EVENT_ID|EVENT_DESCRIPTION|CRASH_DETECTION|\n",
      "+-------+----------+----------+-------------------+---------+-------------------+--------------+---------+-------------+----------+--------+-----------------+---------------+\n",
      "|      7|         7|         7|              Joven|     Prov|2021-01-01 16:20:01|           web|    linux|        linux|         4|       3|            Login|      Sin Error|\n",
      "|      6|         6|         6|             Adulto|     Caba|2021-01-01 16:20:01|           web|    linux|        linux|         4|       3|            Login|      Sin Error|\n",
      "|      9|         9|         9|              Joven|    Lanus|2021-01-01 16:20:01|           web|    linux|        linux|         4|       3|            Login|      Sin Error|\n",
      "|      5|         5|         5|              Joven|    Lanus|2021-01-01 16:20:01|           web|    linux|        linux|         4|       3|            Login|      Sin Error|\n",
      "|      1|         1|         1|              Joven|    Lanus|2021-01-01 16:20:01|           web|    linux|        linux|         4|       3|            Login|      Sin Error|\n",
      "|     10|        10|        10|             Adulto|     Caba|2021-01-01 16:20:01|           web|    linux|        linux|         4|       3|            Login|      Sin Error|\n",
      "|      3|         3|         3|              Joven|     Prov|2021-01-01 16:20:01|           web|    linux|        linux|         4|       3|            Login|      Sin Error|\n",
      "|     12|        12|        12|             Adulto|  Palermo|2021-01-01 16:20:01|           web|    linux|        linux|         4|       3|            Login|      Sin Error|\n",
      "|      8|         8|         8|             Adulto|  Palermo|2021-01-01 16:20:01|           web|    linux|        linux|         4|       3|            Login|      Sin Error|\n",
      "|     11|        11|        11|              Joven|     Prov|2021-01-01 16:20:01|           web|    linux|        linux|         4|       3|            Login|      Sin Error|\n",
      "|      2|         2|         2|             Adulto|     Caba|2021-01-01 16:20:01|           web|    linux|        linux|         4|       3|            Login|      Sin Error|\n",
      "|      4|         4|         4|             Adulto|  Palermo|2021-01-01 16:20:01|           web|    linux|        linux|         4|       3|            Login|      Sin Error|\n",
      "|     13|        13|        13|              Joven|    Lanus|2021-01-01 16:20:01|           web|    linux|        linux|         4|       3|            Login|      Sin Error|\n",
      "+-------+----------+----------+-------------------+---------+-------------------+--------------+---------+-------------+----------+--------+-----------------+---------------+\n",
      "\n"
     ]
    }
   ],
   "source": [
    "df.registerTempTable('clientes')\n",
    "\n",
    "sqlContext.sql('''SELECT col.* FROM clientes col\n",
    "        JOIN(SELECT USER_ID, MIN(SERVER_TIME) AS FIRST_LOGIN FROM clientes GROUP BY USER_ID) \n",
    "        tmp ON tmp.USER_ID = col.USER_ID AND tmp.FIRST_LOGIN = col.SERVER_TIME\n",
    "        ORDER BY SERVER_TIME;''').show()"
   ]
  }
 ],
 "metadata": {
  "kernelspec": {
   "display_name": "env-spark",
   "language": "python",
   "name": "env-spark"
  },
  "language_info": {
   "codemirror_mode": {
    "name": "ipython",
    "version": 3
   },
   "file_extension": ".py",
   "mimetype": "text/x-python",
   "name": "python",
   "nbconvert_exporter": "python",
   "pygments_lexer": "ipython3",
   "version": "3.9.7"
  }
 },
 "nbformat": 4,
 "nbformat_minor": 5
}
