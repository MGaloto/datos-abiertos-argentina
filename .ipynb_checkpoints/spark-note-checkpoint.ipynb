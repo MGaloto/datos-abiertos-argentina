{
 "cells": [
  {
   "cell_type": "code",
   "execution_count": 1,
   "id": "6703fac8",
   "metadata": {},
   "outputs": [
    {
     "name": "stderr",
     "output_type": "stream",
     "text": [
      "WARNING:root:'PYARROW_IGNORE_TIMEZONE' environment variable was not set. It is required to set this environment variable to '1' in both driver and executor sides if you use pyarrow>=2.0.0. pandas-on-Spark will set it for you but it does not work if there is a Spark context already launched.\n"
     ]
    }
   ],
   "source": [
    "from io import BytesIO\n",
    "from zipfile import ZipFile\n",
    "from urllib.request import urlopen\n",
    "from os import listdir\n",
    "import warnings\n",
    "\n",
    "warnings.filterwarnings('ignore')"
   ]
  },
  {
   "cell_type": "code",
   "execution_count": null,
   "id": "eb0c3120",
   "metadata": {},
   "outputs": [],
   "source": [
    "import findspark\n",
    "findspark.init()\n",
    "\n",
    "import pyspark\n",
    "from pyspark.sql import SparkSession\n",
    "from pyspark.sql.functions import *\n",
    "from functools import reduce \n",
    "from pyspark.sql import DataFrame\n",
    "import pyspark.pandas as ps\n",
    "\n",
    "spark = SparkSession.builder.getOrCreate()"
   ]
  },
  {
   "cell_type": "code",
   "execution_count": 3,
   "id": "9cb4f00e",
   "metadata": {},
   "outputs": [],
   "source": [
    "with open('folder.txt', 'r') as folder:\n",
    "    lines = folder.readlines()\n",
    "    \n",
    "folder_archivos =  ' '.join(lines)\n",
    "\n",
    "csv_files = []"
   ]
  },
  {
   "cell_type": "code",
   "execution_count": 4,
   "id": "44cffec3",
   "metadata": {},
   "outputs": [],
   "source": [
    "def find_csv_filenames( path_to_dir, suffix=\".csv\" ):\n",
    "    filenames = listdir(path_to_dir)\n",
    "    return [ filename for filename in filenames if filename.endswith( suffix ) ]\n",
    "\n",
    "csv_files = [l for l in find_csv_filenames(folder_archivos, suffix=\".csv\" ) if 'autos' in l]"
   ]
  },
  {
   "cell_type": "code",
   "execution_count": 5,
   "id": "2de5c235",
   "metadata": {},
   "outputs": [],
   "source": [
    "with open('urls.txt', 'r') as folder_urls:\n",
    "    lines_urls = folder_urls.readlines()\n",
    "\n",
    "if len(csv_files) == 0:\n",
    "    zipurls = lines_urls\n",
    "\n",
    "    for zipurl in zipurls:\n",
    "        with urlopen(zipurl) as zipresp:\n",
    "            with ZipFile(BytesIO(zipresp.read())) as zfile:\n",
    "                zfile.extractall(folder_archivos)"
   ]
  },
  {
   "cell_type": "code",
   "execution_count": 6,
   "id": "fd99e439",
   "metadata": {},
   "outputs": [],
   "source": [
    "list_data_frames = []\n",
    "\n",
    "for file in csv_files:\n",
    "    df_new = spark.read.csv(file, header = True, sep = ',')\n",
    "    list_data_frames.append(df_new)"
   ]
  },
  {
   "cell_type": "code",
   "execution_count": 23,
   "id": "cfe9466f",
   "metadata": {},
   "outputs": [],
   "source": [
    "def unionAll(*dfs):\n",
    "    return reduce(DataFrame.unionAll, dfs)"
   ]
  },
  {
   "cell_type": "code",
   "execution_count": 24,
   "id": "66eac125",
   "metadata": {},
   "outputs": [],
   "source": [
    "df = unionAll(*list_data_frames)"
   ]
  },
  {
   "cell_type": "code",
   "execution_count": 26,
   "id": "585cb20c",
   "metadata": {},
   "outputs": [],
   "source": [
    "df = df.groupBy(['tramite_fecha','registro_seccional_provincia']).agg(count(\"registro_seccional_provincia\").alias(\"count\"))"
   ]
  },
  {
   "cell_type": "code",
   "execution_count": 29,
   "id": "3b243b3e",
   "metadata": {},
   "outputs": [],
   "source": [
    "df.toPandas().to_csv('df.csv')"
   ]
  }
 ],
 "metadata": {
  "kernelspec": {
   "display_name": "env-spark",
   "language": "python",
   "name": "env-spark"
  },
  "language_info": {
   "codemirror_mode": {
    "name": "ipython",
    "version": 3
   },
   "file_extension": ".py",
   "mimetype": "text/x-python",
   "name": "python",
   "nbconvert_exporter": "python",
   "pygments_lexer": "ipython3",
   "version": "3.9.7"
  }
 },
 "nbformat": 4,
 "nbformat_minor": 5
}
