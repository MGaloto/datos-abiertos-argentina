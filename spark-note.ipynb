{
 "cells": [
  {
   "cell_type": "code",
   "execution_count": 1,
   "id": "7a6d3964",
   "metadata": {},
   "outputs": [],
   "source": [
    "from io import BytesIO\n",
    "from zipfile import ZipFile\n",
    "from urllib.request import urlopen\n",
    "from os import listdir\n",
    "import warnings\n",
    "\n",
    "warnings.filterwarnings('ignore')\n",
    "import findspark\n",
    "findspark.init()\n",
    "\n",
    "import pyspark\n",
    "from pyspark.sql import SparkSession\n",
    "from functools import reduce \n",
    "from pyspark.sql import DataFrame\n",
    "\n",
    "spark = SparkSession.builder.getOrCreate()"
   ]
  },
  {
   "cell_type": "code",
   "execution_count": 2,
   "id": "3fb01469",
   "metadata": {},
   "outputs": [],
   "source": [
    "with open('folder.txt', 'r') as folder:\n",
    "    lines = folder.readlines()\n",
    "    \n",
    "folder_archivos =  ' '.join(lines)\n",
    "\n",
    "csv_files = []"
   ]
  },
  {
   "cell_type": "code",
   "execution_count": 3,
   "id": "ba10ee6a",
   "metadata": {},
   "outputs": [],
   "source": [
    "def find_csv_filenames( path_to_dir, suffix=\".csv\" ):\n",
    "    filenames = listdir(path_to_dir)\n",
    "    return [ filename for filename in filenames if filename.endswith( suffix ) ]\n",
    "\n",
    "csv_files = [l for l in find_csv_filenames(folder_archivos, suffix=\".csv\" ) if 'autos' in l]"
   ]
  },
  {
   "cell_type": "code",
   "execution_count": 4,
   "id": "58e509f7",
   "metadata": {},
   "outputs": [
    {
     "data": {
      "text/plain": [
       "['dnrpa-transferencias-autos-2018-09.csv',\n",
       " 'dnrpa-transferencias-autos-2018-10.csv',\n",
       " 'dnrpa-transferencias-autos-2018-11.csv',\n",
       " 'dnrpa-transferencias-autos-2018-12.csv',\n",
       " 'dnrpa-transferencias-autos-201801.csv',\n",
       " 'dnrpa-transferencias-autos-201802.csv',\n",
       " 'dnrpa-transferencias-autos-201803.csv',\n",
       " 'dnrpa-transferencias-autos-201804.csv',\n",
       " 'dnrpa-transferencias-autos-201805.csv',\n",
       " 'dnrpa-transferencias-autos-201806.csv',\n",
       " 'dnrpa-transferencias-autos-201807.csv',\n",
       " 'dnrpa-transferencias-autos-201808.csv',\n",
       " 'dnrpa-transferencias-autos-201901.csv',\n",
       " 'dnrpa-transferencias-autos-201902.csv',\n",
       " 'dnrpa-transferencias-autos-201903.csv',\n",
       " 'dnrpa-transferencias-autos-201904.csv',\n",
       " 'dnrpa-transferencias-autos-201905.csv',\n",
       " 'dnrpa-transferencias-autos-201906.csv',\n",
       " 'dnrpa-transferencias-autos-201907.csv',\n",
       " 'dnrpa-transferencias-autos-201908.csv',\n",
       " 'dnrpa-transferencias-autos-201909.csv',\n",
       " 'dnrpa-transferencias-autos-201910.csv',\n",
       " 'dnrpa-transferencias-autos-201911.csv',\n",
       " 'dnrpa-transferencias-autos-201912.csv',\n",
       " 'dnrpa-transferencias-autos-202001.csv',\n",
       " 'dnrpa-transferencias-autos-202002.csv',\n",
       " 'dnrpa-transferencias-autos-202003.csv',\n",
       " 'dnrpa-transferencias-autos-202004.csv',\n",
       " 'dnrpa-transferencias-autos-202005.csv',\n",
       " 'dnrpa-transferencias-autos-202006.csv',\n",
       " 'dnrpa-transferencias-autos-202007.csv',\n",
       " 'dnrpa-transferencias-autos-202008.csv',\n",
       " 'dnrpa-transferencias-autos-202009.csv',\n",
       " 'dnrpa-transferencias-autos-202010.csv',\n",
       " 'dnrpa-transferencias-autos-202011.csv',\n",
       " 'dnrpa-transferencias-autos-202012.csv',\n",
       " 'dnrpa-transferencias-autos-202101.csv',\n",
       " 'dnrpa-transferencias-autos-202102.csv',\n",
       " 'dnrpa-transferencias-autos-202103.csv',\n",
       " 'dnrpa-transferencias-autos-202104.csv',\n",
       " 'dnrpa-transferencias-autos-202105.csv',\n",
       " 'dnrpa-transferencias-autos-202106.csv',\n",
       " 'dnrpa-transferencias-autos-202107.csv',\n",
       " 'dnrpa-transferencias-autos-202108.csv',\n",
       " 'dnrpa-transferencias-autos-202109.csv',\n",
       " 'dnrpa-transferencias-autos-202110.csv',\n",
       " 'dnrpa-transferencias-autos-202111.csv',\n",
       " 'dnrpa-transferencias-autos-202112.csv',\n",
       " 'dnrpa-transferencias-autos-202201.csv',\n",
       " 'dnrpa-transferencias-autos-202202.csv',\n",
       " 'dnrpa-transferencias-autos-202203.csv',\n",
       " 'dnrpa-transferencias-autos-202204.csv',\n",
       " 'dnrpa-transferencias-autos-202205.csv',\n",
       " 'dnrpa-transferencias-autos-202206.csv',\n",
       " 'dnrpa-transferencias-autos-202207.csv']"
      ]
     },
     "execution_count": 4,
     "metadata": {},
     "output_type": "execute_result"
    }
   ],
   "source": [
    "csv_files"
   ]
  },
  {
   "cell_type": "code",
   "execution_count": 5,
   "id": "b6e3f2de",
   "metadata": {},
   "outputs": [],
   "source": [
    "with open('urls.txt', 'r') as folder_urls:\n",
    "    lines_urls = folder_urls.readlines()\n",
    "\n",
    "if len(csv_files) == 0:\n",
    "    zipurls = lines_urls\n",
    "\n",
    "    for zipurl in zipurls:\n",
    "        with urlopen(zipurl) as zipresp:\n",
    "            with ZipFile(BytesIO(zipresp.read())) as zfile:\n",
    "                zfile.extractall(folder_archivos)"
   ]
  },
  {
   "cell_type": "code",
   "execution_count": 6,
   "id": "17e3625a",
   "metadata": {},
   "outputs": [],
   "source": [
    "list_data_frames = []\n",
    "\n",
    "for file in csv_files:\n",
    "    df_new = spark.read.csv(file, header = True, sep = ',')\n",
    "    list_data_frames.append(df_new)"
   ]
  },
  {
   "cell_type": "code",
   "execution_count": 7,
   "id": "6452b4bc",
   "metadata": {},
   "outputs": [],
   "source": [
    "def unionAll(*dfs):\n",
    "    return reduce(DataFrame.unionAll, dfs)"
   ]
  },
  {
   "cell_type": "code",
   "execution_count": 8,
   "id": "1182cb00",
   "metadata": {},
   "outputs": [],
   "source": [
    "df = unionAll(*list_data_frames)"
   ]
  },
  {
   "cell_type": "code",
   "execution_count": 10,
   "id": "65e48539",
   "metadata": {},
   "outputs": [],
   "source": [
    "from pyspark.sql.functions import count as _count\n",
    "df = df.groupBy(['tramite_fecha','registro_seccional_provincia']).agg(_count(\"registro_seccional_provincia\").alias(\"count\"))"
   ]
  },
  {
   "cell_type": "code",
   "execution_count": 11,
   "id": "03c46b14",
   "metadata": {},
   "outputs": [],
   "source": [
    "df.toPandas().to_csv('df.csv')"
   ]
  },
  {
   "cell_type": "code",
   "execution_count": 55,
   "id": "5eecd8ef",
   "metadata": {},
   "outputs": [],
   "source": [
    "#df = ps.DataFrame(df)"
   ]
  },
  {
   "cell_type": "code",
   "execution_count": 57,
   "id": "5bfbe9c4",
   "metadata": {},
   "outputs": [],
   "source": [
    "#df = df.pivot(index='tramite_fecha', columns='registro_seccional_provincia', values='count').sort_index()"
   ]
  },
  {
   "cell_type": "code",
   "execution_count": 58,
   "id": "0361eb96",
   "metadata": {},
   "outputs": [],
   "source": [
    "#df.columns.name = None              \n",
    "#df = df.reset_index() \n",
    "#df = df.rename_axis(None, axis=1)"
   ]
  }
 ],
 "metadata": {
  "kernelspec": {
   "display_name": "env-spark",
   "language": "python",
   "name": "env-spark"
  },
  "language_info": {
   "codemirror_mode": {
    "name": "ipython",
    "version": 3
   },
   "file_extension": ".py",
   "mimetype": "text/x-python",
   "name": "python",
   "nbconvert_exporter": "python",
   "pygments_lexer": "ipython3",
   "version": "3.9.7"
  }
 },
 "nbformat": 4,
 "nbformat_minor": 5
}
