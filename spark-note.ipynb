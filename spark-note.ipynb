{
 "cells": [
  {
   "cell_type": "code",
   "execution_count": 1,
   "id": "ec6cbb8c",
   "metadata": {},
   "outputs": [],
   "source": [
    "from io import BytesIO\n",
    "from zipfile import ZipFile\n",
    "from urllib.request import urlopen\n",
    "from os import listdir\n",
    "import warnings\n",
    "\n",
    "warnings.filterwarnings('ignore')\n",
    "import findspark\n",
    "findspark.init()\n",
    "\n",
    "import pyspark\n",
    "from pyspark.sql import SparkSession\n",
    "from functools import reduce \n",
    "from pyspark.sql import DataFrame\n",
    "\n",
    "spark = SparkSession.builder.getOrCreate()"
   ]
  },
  {
   "cell_type": "code",
   "execution_count": 3,
   "id": "7459073d",
   "metadata": {},
   "outputs": [],
   "source": [
    "with open('folder.txt', 'r') as folder:\n",
    "    lines = folder.readlines()\n",
    "    \n",
    "folder_archivos =  ' '.join(lines)\n",
    "\n",
    "csv_files = []"
   ]
  },
  {
   "cell_type": "code",
   "execution_count": 4,
   "id": "f947f002",
   "metadata": {},
   "outputs": [],
   "source": [
    "def find_csv_filenames( path_to_dir, suffix=\".csv\" ):\n",
    "    filenames = listdir(path_to_dir)\n",
    "    return [ filename for filename in filenames if filename.endswith( suffix ) ]\n",
    "\n",
    "csv_files = [l for l in find_csv_filenames(folder_archivos, suffix=\".csv\" ) if 'autos' in l]"
   ]
  },
  {
   "cell_type": "code",
   "execution_count": 5,
   "id": "16375f6f",
   "metadata": {},
   "outputs": [],
   "source": [
    "with open('urls.txt', 'r') as folder_urls:\n",
    "    lines_urls = folder_urls.readlines()\n",
    "\n",
    "if len(csv_files) == 0:\n",
    "    zipurls = lines_urls\n",
    "\n",
    "    for zipurl in zipurls:\n",
    "        with urlopen(zipurl) as zipresp:\n",
    "            with ZipFile(BytesIO(zipresp.read())) as zfile:\n",
    "                zfile.extractall(folder_archivos)"
   ]
  },
  {
   "cell_type": "code",
   "execution_count": 6,
   "id": "b2b4996b",
   "metadata": {},
   "outputs": [],
   "source": [
    "list_data_frames = []\n",
    "\n",
    "for file in csv_files:\n",
    "    df_new = spark.read.csv(file, header = True, sep = ',')\n",
    "    list_data_frames.append(df_new)"
   ]
  },
  {
   "cell_type": "code",
   "execution_count": 7,
   "id": "b40d3f97",
   "metadata": {},
   "outputs": [],
   "source": [
    "def unionAll(*dfs):\n",
    "    return reduce(DataFrame.unionAll, dfs)"
   ]
  },
  {
   "cell_type": "code",
   "execution_count": 8,
   "id": "089a2201",
   "metadata": {},
   "outputs": [],
   "source": [
    "df = unionAll(*list_data_frames)"
   ]
  },
  {
   "cell_type": "code",
   "execution_count": 26,
   "id": "7e646787",
   "metadata": {},
   "outputs": [],
   "source": [
    "df = df.groupBy(['tramite_fecha','registro_seccional_provincia']).agg(count(\"registro_seccional_provincia\").alias(\"count\"))"
   ]
  },
  {
   "cell_type": "code",
   "execution_count": 29,
   "id": "04384209",
   "metadata": {},
   "outputs": [],
   "source": [
    "df.toPandas().to_csv('df.csv')"
   ]
  },
  {
   "cell_type": "code",
   "execution_count": 55,
   "id": "5027ea41",
   "metadata": {},
   "outputs": [],
   "source": [
    "#df = ps.DataFrame(df)"
   ]
  },
  {
   "cell_type": "code",
   "execution_count": 57,
   "id": "5e63f410",
   "metadata": {},
   "outputs": [],
   "source": [
    "#df = df.pivot(index='tramite_fecha', columns='registro_seccional_provincia', values='count').sort_index()"
   ]
  },
  {
   "cell_type": "code",
   "execution_count": 58,
   "id": "91881b16",
   "metadata": {},
   "outputs": [],
   "source": [
    "#df.columns.name = None              \n",
    "#df = df.reset_index() \n",
    "#df = df.rename_axis(None, axis=1)"
   ]
  }
 ],
 "metadata": {
  "kernelspec": {
   "display_name": "env-spark",
   "language": "python",
   "name": "env-spark"
  },
  "language_info": {
   "codemirror_mode": {
    "name": "ipython",
    "version": 3
   },
   "file_extension": ".py",
   "mimetype": "text/x-python",
   "name": "python",
   "nbconvert_exporter": "python",
   "pygments_lexer": "ipython3",
   "version": "3.9.7"
  }
 },
 "nbformat": 4,
 "nbformat_minor": 5
}
